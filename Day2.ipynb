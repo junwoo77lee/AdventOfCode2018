{
 "cells": [
  {
   "cell_type": "markdown",
   "metadata": {},
   "source": [
    "# Day 2: Part 1"
   ]
  },
  {
   "cell_type": "code",
   "execution_count": 34,
   "metadata": {},
   "outputs": [],
   "source": [
    "from collections import Counter\n",
    "import numpy as np\n",
    "from typing import List"
   ]
  },
  {
   "cell_type": "code",
   "execution_count": 37,
   "metadata": {},
   "outputs": [],
   "source": [
    "with open('./data/day2_input.txt', 'r') as f:\n",
    "    BoxIds = [line.strip() for line in f]"
   ]
  },
  {
   "cell_type": "code",
   "execution_count": 3,
   "metadata": {},
   "outputs": [],
   "source": [
    "# list_test = ['abcdef', 'bababc', 'abbcde', 'abcccd', 'aabcdd', 'abcdee', 'ababab']"
   ]
  },
  {
   "cell_type": "code",
   "execution_count": 82,
   "metadata": {},
   "outputs": [],
   "source": [
    "# a function to count the duplicated characters using Counter()\n",
    "\n",
    "# Joel: use Counter(), Set(), and two += 1 thing. -> Lesson Learned!\n",
    "\n",
    "def count_duplicates(BoxIds: List[str]) -> List[tuple]:\n",
    "    \n",
    "#     twos_threes = []\n",
    "    two = 0\n",
    "    three = 0\n",
    "        \n",
    "    for boxid in BoxIds:\n",
    "        \n",
    "        c = Counter(boxid)\n",
    "\n",
    "        if 2 in c.values():\n",
    "            two += 1\n",
    "        \n",
    "        if 3 in c.values():\n",
    "            three += 1\n",
    "        \n",
    "#         twos_threes.append((two, three))\n",
    "\n",
    "    return two * three #twos_threes\n",
    "\n",
    "\n",
    "# a function to checksum\n",
    "\n",
    "def check_sum(twos_threes: List[tuple]) -> int:\n",
    "    \n",
    "    return np.product([sum(list(zip(*twos_threes))[i]) for i in range(2)])\n",
    "    "
   ]
  },
  {
   "cell_type": "code",
   "execution_count": 38,
   "metadata": {},
   "outputs": [
    {
     "data": {
      "text/plain": [
       "4712"
      ]
     },
     "execution_count": 38,
     "metadata": {},
     "output_type": "execute_result"
    }
   ],
   "source": [
    "check_sum(count_duplicates(BoxIds))"
   ]
  },
  {
   "cell_type": "code",
   "execution_count": 83,
   "metadata": {},
   "outputs": [
    {
     "data": {
      "text/plain": [
       "4712"
      ]
     },
     "execution_count": 83,
     "metadata": {},
     "output_type": "execute_result"
    }
   ],
   "source": [
    "count_duplicates(BoxIds)"
   ]
  },
  {
   "cell_type": "markdown",
   "metadata": {},
   "source": [
    "# Day 2: Part 2"
   ]
  },
  {
   "cell_type": "code",
   "execution_count": 40,
   "metadata": {},
   "outputs": [],
   "source": [
    "test_list = ('''abcde\n",
    "fghij\n",
    "klmno\n",
    "pqrst\n",
    "fguij\n",
    "axcye\n",
    "wvxyz''').split('\\n')"
   ]
  },
  {
   "cell_type": "code",
   "execution_count": 41,
   "metadata": {},
   "outputs": [
    {
     "data": {
      "text/plain": [
       "['abcde', 'fghij', 'klmno', 'pqrst', 'fguij', 'axcye', 'wvxyz']"
      ]
     },
     "execution_count": 41,
     "metadata": {},
     "output_type": "execute_result"
    }
   ],
   "source": [
    "test_list"
   ]
  },
  {
   "cell_type": "code",
   "execution_count": 42,
   "metadata": {},
   "outputs": [],
   "source": [
    "from itertools import combinations"
   ]
  },
  {
   "cell_type": "code",
   "execution_count": 76,
   "metadata": {},
   "outputs": [
    {
     "name": "stdout",
     "output_type": "stream",
     "text": [
      "Found!\n",
      "lufjygedpvfbhftxiwnaorzmq\n"
     ]
    }
   ],
   "source": [
    "for element in combinations(BoxIds, 2):\n",
    "\n",
    "    same_chars = ''\n",
    "    same_counts = 0\n",
    "    \n",
    "    x, y = element\n",
    "    \n",
    "    for _ in range(len(x)):\n",
    "        if x[_] == y[_]:\n",
    "            same_counts += 1\n",
    "            same_chars += x[_]\n",
    "        \n",
    "        if same_counts == (len(x) - 1):\n",
    "            print(\"Found!\")\n",
    "            print(same_chars)"
   ]
  },
  {
   "cell_type": "code",
   "execution_count": 100,
   "metadata": {},
   "outputs": [],
   "source": [
    "# The solution from Joel\n",
    "# Dream Big!!\n",
    "\n",
    "def characters_in_common(BoxIds: List[str]) -> str:\n",
    "    '''\n",
    "    return joined with counter().most_common characters\n",
    "    '''\n",
    "    \n",
    "    leave_one_outs = Counter()\n",
    "    \n",
    "    for boxid in BoxIds:\n",
    "        for i in range(len(boxid)):\n",
    "            \n",
    "            leave_one_out = tuple(boxid[:i] + \"_\" + boxid[(i+1):])\n",
    "            leave_one_outs[leave_one_out] += 1\n",
    "            \n",
    "    [(best, count), (not_best, not_best_count)] = leave_one_outs.most_common(2)\n",
    "    \n",
    "    return ''.join([char for char in best if char != \"_\"])\n",
    "    "
   ]
  },
  {
   "cell_type": "code",
   "execution_count": 102,
   "metadata": {},
   "outputs": [
    {
     "data": {
      "text/plain": [
       "'lufjygedpvfbhftxiwnaorzmq'"
      ]
     },
     "execution_count": 102,
     "metadata": {},
     "output_type": "execute_result"
    }
   ],
   "source": [
    "characters_in_common(BoxIds)"
   ]
  },
  {
   "cell_type": "code",
   "execution_count": null,
   "metadata": {},
   "outputs": [],
   "source": []
  }
 ],
 "metadata": {
  "kernelspec": {
   "display_name": "Python 3",
   "language": "python",
   "name": "python3"
  },
  "language_info": {
   "codemirror_mode": {
    "name": "ipython",
    "version": 3
   },
   "file_extension": ".py",
   "mimetype": "text/x-python",
   "name": "python",
   "nbconvert_exporter": "python",
   "pygments_lexer": "ipython3",
   "version": "3.7.3"
  }
 },
 "nbformat": 4,
 "nbformat_minor": 2
}
